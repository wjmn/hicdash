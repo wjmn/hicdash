{
 "cells": [
  {
   "cell_type": "markdown",
   "metadata": {},
   "source": [
    "# Tests"
   ]
  },
  {
   "cell_type": "markdown",
   "metadata": {},
   "source": [
    "This notebook collects basic plotting tests. \n",
    "\n",
    "In future, this might be moved to a different directory / formalized as unit tests. "
   ]
  },
  {
   "cell_type": "markdown",
   "metadata": {},
   "source": [
    "## Imports"
   ]
  },
  {
   "cell_type": "code",
   "execution_count": 1,
   "metadata": {},
   "outputs": [],
   "source": [
    "from hicdash.constants import * \n",
    "from hicdash.definitions import *\n",
    "from hicdash.utilities import *\n",
    "from hicdash.readers import *\n",
    "from hicdash.plotters import *\n",
    "from hicdash.generator import *"
   ]
  },
  {
   "cell_type": "markdown",
   "metadata": {},
   "source": [
    "## Read a Sample"
   ]
  },
  {
   "cell_type": "markdown",
   "metadata": {},
   "source": [
    "Provide **full** paths (relative paths don't work at the moment) to each of the Arima-SV Pipeline output files (replace the below with your own -- the example data is not included with this repository). This particular example is quite old, so doesn't have the greatest quality."
   ]
  },
  {
   "cell_type": "code",
   "execution_count": 2,
   "metadata": {},
   "outputs": [],
   "source": [
    "sample = read_sample(\n",
    "    \"EXAMPLE\", \n",
    "    \"/home/wjmn/repos/hicdash/example_data/EXAMPLE_inter_30.hic\",\n",
    "    \"/home/wjmn/repos/hicdash/example_data/EXAMPLE_v1.3_Arima_QC_deep.txt\",\n",
    "    \"/home/wjmn/repos/hicdash/example_data/EXAMPLE.breaks.bedpe\",\n",
    "    )"
   ]
  },
  {
   "cell_type": "markdown",
   "metadata": {},
   "source": [
    "## Hi-C Centered Matrix"
   ]
  },
  {
   "cell_type": "code",
   "execution_count": 3,
   "metadata": {},
   "outputs": [
    {
     "ename": "TypeError",
     "evalue": "can only concatenate list (not \"zip\") to list",
     "output_type": "error",
     "traceback": [
      "\u001b[0;31m---------------------------------------------------------------------------\u001b[0m",
      "\u001b[0;31mTypeError\u001b[0m                                 Traceback (most recent call last)",
      "Cell \u001b[0;32mIn[3], line 10\u001b[0m\n\u001b[1;32m      8\u001b[0m regionX \u001b[38;5;241m=\u001b[39m Region(chrA, posA\u001b[38;5;241m-\u001b[39mwidth, posA\u001b[38;5;241m+\u001b[39mwidth)\n\u001b[1;32m      9\u001b[0m regionY \u001b[38;5;241m=\u001b[39m Region(chrB, posB\u001b[38;5;241m-\u001b[39mwidth, posB\u001b[38;5;241m+\u001b[39mwidth)\n\u001b[0;32m---> 10\u001b[0m ax \u001b[38;5;241m=\u001b[39m \u001b[43mplot_hic_region_matrix\u001b[49m\u001b[43m(\u001b[49m\u001b[43msample\u001b[49m\u001b[43m,\u001b[49m\u001b[43m \u001b[49m\u001b[43mregionX\u001b[49m\u001b[43m,\u001b[49m\u001b[43m \u001b[49m\u001b[43mregionY\u001b[49m\u001b[43m,\u001b[49m\u001b[43m \u001b[49m\u001b[43mresolution\u001b[49m\u001b[43m,\u001b[49m\u001b[43m \u001b[49m\u001b[43max\u001b[49m\u001b[38;5;241;43m=\u001b[39;49m\u001b[43max\u001b[49m\u001b[43m,\u001b[49m\u001b[43m \u001b[49m\u001b[43mgrid_lines\u001b[49m\u001b[38;5;241;43m=\u001b[39;49m\u001b[38;5;28;43;01mFalse\u001b[39;49;00m\u001b[43m,\u001b[49m\u001b[43m \u001b[49m\u001b[43mcrosshairs\u001b[49m\u001b[38;5;241;43m=\u001b[39;49m\u001b[38;5;28;43;01mTrue\u001b[39;49;00m\u001b[43m,\u001b[49m\u001b[43m \u001b[49m\u001b[43mminimal\u001b[49m\u001b[38;5;241;43m=\u001b[39;49m\u001b[38;5;28;43;01mFalse\u001b[39;49;00m\u001b[43m)\u001b[49m\n\u001b[1;32m     13\u001b[0m \u001b[38;5;66;03m# ax = plot_hic_centered_matrix(sample, call.breakpointB.chr, call.breakpointB.pos, call.breakpointA.chr, call.breakpointA.pos, resolution, width, ax=ax, grid_lines=True)\u001b[39;00m\n\u001b[1;32m     14\u001b[0m \n\u001b[1;32m     15\u001b[0m \u001b[38;5;66;03m# Get image data\u001b[39;00m\n",
      "File \u001b[0;32m~/repos/hicdash/src/hicdash/plotters.py:373\u001b[0m, in \u001b[0;36mplot_hic_region_matrix\u001b[0;34m(sample, regionX, regionY, resolution, ax, minimal, show_breakfinder_calls, breakfinder_marker, breakfinder_color, normalization, vmax, cmap, title, title_fontsize, label_fontsize, tick_fontsize, grid_lines, crosshairs, extra_bedpe)\u001b[0m\n\u001b[1;32m    369\u001b[0m \u001b[38;5;66;03m# Plot annotations\u001b[39;00m\n\u001b[1;32m    370\u001b[0m \u001b[38;5;28;01mif\u001b[39;00m show_breakfinder_calls \u001b[38;5;129;01mand\u001b[39;00m sample\u001b[38;5;241m.\u001b[39mbreakfinder_calls \u001b[38;5;129;01mis\u001b[39;00m \u001b[38;5;129;01mnot\u001b[39;00m \u001b[38;5;28;01mNone\u001b[39;00m:\n\u001b[1;32m    371\u001b[0m \n\u001b[1;32m    372\u001b[0m     \u001b[38;5;66;03m# Iterate through annotation sets: (annotations, color)\u001b[39;00m\n\u001b[0;32m--> 373\u001b[0m     \u001b[38;5;28;01mfor\u001b[39;00m (annotation_set, annotation_color) \u001b[38;5;129;01min\u001b[39;00m \u001b[43m[\u001b[49m\u001b[43m(\u001b[49m\u001b[43msample\u001b[49m\u001b[38;5;241;43m.\u001b[39;49m\u001b[43mbreakfinder_calls\u001b[49m\u001b[43m,\u001b[49m\u001b[43m \u001b[49m\u001b[43mbreakfinder_color\u001b[49m\u001b[43m)\u001b[49m\u001b[43m]\u001b[49m\u001b[43m \u001b[49m\u001b[38;5;241;43m+\u001b[39;49m\u001b[43m \u001b[49m\u001b[38;5;28;43mzip\u001b[39;49m\u001b[43m(\u001b[49m\u001b[43mextra_bedpe\u001b[49m\u001b[43m,\u001b[49m\u001b[43m \u001b[49m\u001b[43mBEDPE_COLORS\u001b[49m\u001b[43m)\u001b[49m:\n\u001b[1;32m    374\u001b[0m \n\u001b[1;32m    375\u001b[0m         \u001b[38;5;66;03m# Select only breakpoints that involve these two chromosomes\u001b[39;00m\n\u001b[1;32m    376\u001b[0m         \u001b[38;5;28;01mfor\u001b[39;00m call \u001b[38;5;129;01min\u001b[39;00m annotation_set:\n\u001b[1;32m    377\u001b[0m \n\u001b[1;32m    378\u001b[0m             \u001b[38;5;66;03m# Check if call is a breakfinder call or a generic bedpe line type \u001b[39;00m\n\u001b[1;32m    379\u001b[0m             \u001b[38;5;28;01mif\u001b[39;00m \u001b[38;5;28misinstance\u001b[39m(call, BreakfinderCall):\n",
      "\u001b[0;31mTypeError\u001b[0m: can only concatenate list (not \"zip\") to list"
     ]
    },
    {
     "data": {
      "image/png": "[encoded data removed]",
      "text/plain": [
       "<Figure size 600x600 with 1 Axes>"
      ]
     },
     "metadata": {},
     "output_type": "display_data"
    }
   ],
   "source": [
    "fig, ax = plt.subplots(figsize=(6,6))\n",
    "call = sample.breakfinder_calls[-1]\n",
    "chrA, posA = call.breakpointA.chr, call.breakpointA.pos \n",
    "chrB, posB = call.breakpointB.chr, call.breakpointB.pos\n",
    "resolution = call.resolution\n",
    "width = 25 * resolution\n",
    "\n",
    "regionX = Region(chrA, posA-width, posA+width)\n",
    "regionY = Region(chrB, posB-width, posB+width)\n",
    "ax = plot_hic_region_matrix(sample, regionX, regionY, resolution, ax=ax, grid_lines=False, crosshairs=True, minimal=False)\n",
    "\n",
    "\n",
    "# ax = plot_hic_centered_matrix(sample, call.breakpointB.chr, call.breakpointB.pos, call.breakpointA.chr, call.breakpointA.pos, resolution, width, ax=ax, grid_lines=True)\n",
    "\n",
    "# Get image data"
   ]
  },
  {
   "cell_type": "markdown",
   "metadata": {},
   "source": [
    "## Generator Scenarios"
   ]
  },
  {
   "cell_type": "code",
   "execution_count": 4,
   "metadata": {},
   "outputs": [
    {
     "ename": "",
     "evalue": "",
     "output_type": "error",
     "traceback": [
      "\u001b[1;31mThe Kernel crashed while executing code in the current cell or a previous cell. \n",
      "\u001b[1;31mPlease review the code in the cell(s) to identify a possible cause of the failure. \n",
      "\u001b[1;31mClick <a href='https://aka.ms/vscodeJupyterKernelCrash'>here</a> for more info. \n",
      "\u001b[1;31mView Jupyter <a href='command:jupyter.viewOutput'>log</a> for further details."
     ]
    }
   ],
   "source": [
    "sample_id = \"EXAMPLE\"\n",
    "hic_filepath = \"/home/wjmn/repos/hicdash/example_data/EXAMPLE_inter_30.hic\"\n",
    "qc_filepath = \"/home/wjmn/repos/hicdash/example_data/EXAMPLE_v1.3_Arima_QC_deep.txt\"\n",
    "breakfinder_filepath = \"/home/wjmn/repos/hicdash/example_data/EXAMPLE.breaks.bedpe\"\n",
    "extra_bedpe = None\n",
    "control_filepath = \"/home/wjmn/repos/hicdash/example_data/COMPARISON_inter_30.hic\"\n",
    "output_filepath = \"/home/wjmn/repos/hicdash/example_data/EXAMPLE_report.html\"\n",
    "\n",
    "make_html_report_and_save(\n",
    "    sample_id=sample_id,\n",
    "    hic_filepath=hic_filepath,\n",
    "    qc_filepath=qc_filepath,\n",
    "    breakfinder_filepath=breakfinder_filepath,\n",
    "    extra_bedpe=extra_bedpe, \n",
    "    control_filepath=control_filepath,\n",
    "    output_filepath=output_filepath\n",
    ")"
   ]
  },
  {
   "cell_type": "code",
   "execution_count": null,
   "metadata": {},
   "outputs": [],
   "source": []
  }
 ],
 "metadata": {
  "kernelspec": {
   "display_name": "hicdash",
   "language": "python",
   "name": "python3"
  },
  "language_info": {
   "codemirror_mode": {
    "name": "ipython",
    "version": 3
   },
   "file_extension": ".py",
   "mimetype": "text/x-python",
   "name": "python",
   "nbconvert_exporter": "python",
   "pygments_lexer": "ipython3",
   "version": "3.10.14"
  }
 },
 "nbformat": 4,
 "nbformat_minor": 2
}
