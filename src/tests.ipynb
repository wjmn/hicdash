{
 "cells": [
  {
   "cell_type": "markdown",
   "metadata": {},
   "source": [
    "# Tests"
   ]
  },
  {
   "cell_type": "markdown",
   "metadata": {},
   "source": [
    "This notebook collects basic plotting tests. \n",
    "\n",
    "In future, this might be moved to a different directory / formalized as unit tests. "
   ]
  },
  {
   "cell_type": "markdown",
   "metadata": {},
   "source": [
    "## Imports"
   ]
  },
  {
   "cell_type": "code",
   "execution_count": 1,
   "metadata": {},
   "outputs": [],
   "source": [
    "from hicdash.constants import * \n",
    "from hicdash.definitions import *\n",
    "from hicdash.utilities import *\n",
    "from hicdash.readers import *\n",
    "from hicdash.plotters import *\n",
    "from hicdash.generator import *"
   ]
  },
  {
   "cell_type": "markdown",
   "metadata": {},
   "source": [
    "## Read a Sample"
   ]
  },
  {
   "cell_type": "markdown",
   "metadata": {},
   "source": [
    "Provide **full** paths (relative paths don't work at the moment) to each of the Arima-SV Pipeline output files (replace the below with your own -- the example data is not included with this repository). This particular example is quite old, so doesn't have the greatest quality."
   ]
  },
  {
   "cell_type": "code",
   "execution_count": 2,
   "metadata": {},
   "outputs": [],
   "source": [
    "sample = read_sample(\n",
    "    \"EXAMPLE\", \n",
    "    \"/home/wjmn/repos/hicdash/example_data/EXAMPLE_inter_30.hic\",\n",
    "    \"/home/wjmn/repos/hicdash/example_data/EXAMPLE_v1.3_Arima_QC_deep.txt\",\n",
    "    \"/home/wjmn/repos/hicdash/example_data/EXAMPLE.breaks.bedpe\",\n",
    "    )"
   ]
  },
  {
   "cell_type": "markdown",
   "metadata": {},
   "source": [
    "## Hi-C Centered Matrix"
   ]
  },
  {
   "cell_type": "code",
   "execution_count": 3,
   "metadata": {},
   "outputs": [
    {
     "data": {
      "image/png": "[encoded data removed]",
      "text/plain": [
       "<Figure size 600x600 with 1 Axes>"
      ]
     },
     "metadata": {},
     "output_type": "display_data"
    }
   ],
   "source": [
    "fig, ax = plt.subplots(figsize=(6,6))\n",
    "call = sample.breakfinder_calls[-1]\n",
    "chrA, posA = call.breakpointA.chr, call.breakpointA.pos \n",
    "chrB, posB = call.breakpointB.chr, call.breakpointB.pos\n",
    "resolution = call.resolution\n",
    "width = 25 * resolution\n",
    "\n",
    "regionX = Region(chrA, posA-width, posA+width)\n",
    "regionY = Region(chrB, posB-width, posB+width)\n",
    "ax = plot_hic_region_matrix(sample, regionX, regionY, resolution, ax=ax, grid=False, crosshairs=True, minimal=False)\n",
    "\n",
    "\n",
    "# ax = plot_hic_centered_matrix(sample, call.breakpointB.chr, call.breakpointB.pos, call.breakpointA.chr, call.breakpointA.pos, resolution, width, ax=ax, grid_lines=True)\n",
    "\n",
    "# Get image data"
   ]
  },
  {
   "cell_type": "markdown",
   "metadata": {},
   "source": [
    "## BigWig Track"
   ]
  },
  {
   "cell_type": "code",
   "execution_count": 4,
   "metadata": {},
   "outputs": [
    {
     "data": {
      "image/png": "[encoded data removed]",
      "text/plain": [
       "<Figure size 600x100 with 2 Axes>"
      ]
     },
     "metadata": {},
     "output_type": "display_data"
    }
   ],
   "source": [
    "EXAMPLE_BW1 = \"/home/wjmn/repos/hicdash/example_data/EXAMPLE.ctcf.bigwig\"\n",
    "EXAMPLE_BW2 = \"/home/wjmn/repos/hicdash/example_data/EXAMPLE.h3k27ac.bigwig\"\n",
    "\n",
    "fig, ax = plt.subplots(2, 1, figsize=(6,1))\n",
    "bw1 = pyBigWig.open(EXAMPLE_BW1)\n",
    "bw2 = pyBigWig.open(EXAMPLE_BW2)\n",
    "plot_bigwig_track(bw1, \"chr2\", 0, 4000000, ax=ax[0], label=\"H3K27ac\")\n",
    "plot_bigwig_track(bw2, \"chr2\", 0, 4000000, ax=ax[1], color=\"dodgerblue\", label=\"CTCF\")"
   ]
  },
  {
   "cell_type": "markdown",
   "metadata": {},
   "source": [
    "## Generator Scenarios"
   ]
  },
  {
   "cell_type": "code",
   "execution_count": 5,
   "metadata": {},
   "outputs": [
    {
     "name": "stdout",
     "output_type": "stream",
     "text": [
      "Hi-C sample loaded: EXAMPLE. Generating report (this may take a while)...\n",
      "There are 33 breakfinder calls in this sample.\n",
      "- Generating HTML for breakfinder call: chr1:235077000;chr1:239945000 (+-)\n",
      "- Generating HTML for breakfinder call: chr1:182691000;chr4:17173000 (++)\n",
      "- Generating HTML for breakfinder call: chr2:112000000;chr7:73000000 (+-)\n",
      "- Generating HTML for breakfinder call: chr2:165000000;chr15:101900000 (-+)\n",
      "- Generating HTML for breakfinder call: chr3:102036000;chr3:143161000 (+-)\n",
      "- Generating HTML for breakfinder call: chr3:187967000;chr8:127804000 (-+)\n",
      "- Generating HTML for breakfinder call: chr3:188092000;chr8:128522000 (--)\n",
      "- Generating HTML for breakfinder call: chr3:188097000;chr8:128633000 (-+)\n",
      "- Generating HTML for breakfinder call: chr3:188453000;chr8:130323000 (+-)\n",
      "- Generating HTML for breakfinder call: chr3:188564000;chr8:128024000 (--)\n",
      "- Generating HTML for breakfinder call: chr3:188710000;chr8:127857000 (--)\n",
      "- Generating HTML for breakfinder call: chr3:188734000;chr8:106064000 (-+)\n",
      "- Generating HTML for breakfinder call: chr3:188762000;chr8:129971000 (+-)\n",
      "- Generating HTML for breakfinder call: chr4:34620000;chr4:65400000 (++)\n",
      "- Generating HTML for breakfinder call: chr6:32191000;chr6:43497000 (-+)\n",
      "- Generating HTML for breakfinder call: chr6:68870000;chr7:74060000 (--)\n",
      "- Generating HTML for breakfinder call: chr6:500000;chr8:134100000 (--)\n",
      "- Generating HTML for breakfinder call: chr6:510000;chr8:130010000 (+-)\n",
      "- Generating HTML for breakfinder call: chr8:31300000;chr8:86300000 (+-)\n",
      "- Generating HTML for breakfinder call: chr8:127220000;chr8:133620000 (++)\n",
      "- Generating HTML for breakfinder call: chr8:127928000;chr8:130006000 (++)\n",
      "- Generating HTML for breakfinder call: chr8:128257000;chr8:134202000 (-+)\n",
      "- Generating HTML for breakfinder call: chr11:83200000;chr13:56880000 (+-)\n",
      "- Generating HTML for breakfinder call: chr14:101000000;chr17:50000000 (+-)\n",
      "- Generating HTML for breakfinder call: chr14:78000000;chr18:71000000 (-+)\n",
      "- Generating HTML for breakfinder call: chr14:105534000;chr18:63307000 (--)\n",
      "- Generating HTML for breakfinder call: chr14:105678000;chr18:63110000 (--)\n",
      "- Generating HTML for breakfinder call: chr17:50070000;chr18:78590000 (-+)\n",
      "- Generating HTML for breakfinder call: chrX:24028000;chrX:65762000 (++)\n",
      "- Generating HTML for breakfinder call: chrX:24830000;chrX:75590000 (++)\n",
      "- Generating HTML for breakfinder call: chrX:55570000;chrX:65037000 (-+)\n",
      "- Generating HTML for breakfinder call: chrX:57360000;chrX:74600000 (+-)\n",
      "- Generating HTML for breakfinder call: chrX:149455000;chrX:152652000 (-+)\n",
      "Report generation complete.\n",
      "Report saved to /home/wjmn/repos/hicdash/example_data/EXAMPLE_report.html.\n"
     ]
    }
   ],
   "source": [
    "sample_id = \"EXAMPLE\"\n",
    "hic_filepath = \"/home/wjmn/repos/hicdash/example_data/EXAMPLE_inter_30.hic\"\n",
    "qc_filepath = \"/home/wjmn/repos/hicdash/example_data/EXAMPLE_v1.3_Arima_QC_deep.txt\"\n",
    "breakfinder_filepath = \"/home/wjmn/repos/hicdash/example_data/EXAMPLE.breaks.bedpe\"\n",
    "# breakfinder_filepath = \"/home/wjmn/repos/hicdash/example_data/EXAMPLE.short.bedpe\"\n",
    "extra_bedpe = \"/home/wjmn/repos/hicdash/example_data/EXAMPLE.eaglec.bedpe\"\n",
    "extra_bigwig = \"/home/wjmn/repos/hicdash/example_data/EXAMPLE.h3k27ac.bigwig,/home/wjmn/repos/hicdash/example_data/EXAMPLE.ctcf.bigwig\"\n",
    "control_filepath = \"/home/wjmn/repos/hicdash/example_data/COMPARISON_inter_30.hic\"\n",
    "output_filepath = \"/home/wjmn/repos/hicdash/example_data/EXAMPLE_report.html\"\n",
    "crosshairs=True\n",
    "grid=True\n",
    "\n",
    "make_html_report_and_save(\n",
    "    sample_id=sample_id,\n",
    "    hic_filepath=hic_filepath,\n",
    "    qc_filepath=qc_filepath,\n",
    "    breakfinder_filepath=breakfinder_filepath,\n",
    "    extra_bedpe=extra_bedpe, \n",
    "    extra_bigwig=extra_bigwig,\n",
    "    crosshairs=crosshairs,\n",
    "    grid=grid,\n",
    "    control_filepath=control_filepath,\n",
    "    output_filepath=output_filepath\n",
    ")"
   ]
  },
  {
   "cell_type": "code",
   "execution_count": null,
   "metadata": {},
   "outputs": [],
   "source": []
  }
 ],
 "metadata": {
  "kernelspec": {
   "display_name": "hicdash",
   "language": "python",
   "name": "python3"
  },
  "language_info": {
   "codemirror_mode": {
    "name": "ipython",
    "version": 3
   },
   "file_extension": ".py",
   "mimetype": "text/x-python",
   "name": "python",
   "nbconvert_exporter": "python",
   "pygments_lexer": "ipython3",
   "version": "3.10.14"
  }
 },
 "nbformat": 4,
 "nbformat_minor": 2
}
