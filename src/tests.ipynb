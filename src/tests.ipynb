{
 "cells": [
  {
   "cell_type": "markdown",
   "metadata": {},
   "source": [
    "# Tests"
   ]
  },
  {
   "cell_type": "markdown",
   "metadata": {},
   "source": [
    "This notebook collects basic plotting tests. \n",
    "\n",
    "In future, this might be moved to a different directory / formalized as unit tests. "
   ]
  },
  {
   "cell_type": "markdown",
   "metadata": {},
   "source": [
    "## Imports"
   ]
  },
  {
   "cell_type": "code",
   "execution_count": 1,
   "metadata": {},
   "outputs": [],
   "source": [
    "from hicdash.constants import * \n",
    "from hicdash.definitions import *\n",
    "from hicdash.utilities import *\n",
    "from hicdash.readers import *\n",
    "from hicdash.plotters import *\n",
    "from hicdash.generator import *"
   ]
  },
  {
   "cell_type": "markdown",
   "metadata": {},
   "source": [
    "## Read a Sample"
   ]
  },
  {
   "cell_type": "markdown",
   "metadata": {},
   "source": [
    "Provide **full** paths (relative paths don't work at the moment) to each of the Arima-SV Pipeline output files (replace the below with your own -- the example data is not included with this repository). This particular example is quite old, so doesn't have the greatest quality."
   ]
  },
  {
   "cell_type": "code",
   "execution_count": 2,
   "metadata": {},
   "outputs": [],
   "source": [
    "sample = read_sample(\n",
    "    \"EXAMPLE\", \n",
    "    \"/home/wjmn/repos/hicdash/example_data/EXAMPLE_inter_30.hic\",\n",
    "    \"/home/wjmn/repos/hicdash/example_data/EXAMPLE_v1.3_Arima_QC_deep.txt\",\n",
    "    \"/home/wjmn/repos/hicdash/example_data/EXAMPLE.breaks.bedpe\",\n",
    "    )"
   ]
  },
  {
   "cell_type": "markdown",
   "metadata": {},
   "source": [
    "## Hi-C Centered Matrix"
   ]
  },
  {
   "cell_type": "code",
   "execution_count": 9,
   "metadata": {},
   "outputs": [
    {
     "name": "stdout",
     "output_type": "stream",
     "text": [
      "(235067000.0, 235087000.0) (239955000.0, 239935000.0) 235067000 235087000 239935000 239955000\n"
     ]
    },
    {
     "data": {
      "image/png": "[encoded data removed]",
      "text/plain": [
       "<Figure size 600x600 with 1 Axes>"
      ]
     },
     "metadata": {},
     "output_type": "display_data"
    }
   ],
   "source": [
    "fig, ax = plt.subplots(figsize=(6,6))\n",
    "call = sample.breakfinder_calls[0]\n",
    "chrA, posA = call.breakpointA.chr, call.breakpointA.pos \n",
    "chrB, posB = call.breakpointB.chr, call.breakpointB.pos\n",
    "resolution = call.resolution\n",
    "width = 10 * resolution\n",
    "\n",
    "regionX = Region(chrA, posA-width, posA+width)\n",
    "regionY = Region(chrB, posB-width, posB+width)\n",
    "ax = plot_hic_region_matrix(sample, regionX, regionY, resolution, ax, grid_lines=True)\n",
    "\n",
    "# Get image data"
   ]
  },
  {
   "cell_type": "code",
   "execution_count": null,
   "metadata": {},
   "outputs": [],
   "source": []
  }
 ],
 "metadata": {
  "kernelspec": {
   "display_name": "hicdash",
   "language": "python",
   "name": "python3"
  },
  "language_info": {
   "codemirror_mode": {
    "name": "ipython",
    "version": 3
   },
   "file_extension": ".py",
   "mimetype": "text/x-python",
   "name": "python",
   "nbconvert_exporter": "python",
   "pygments_lexer": "ipython3",
   "version": "3.10.14"
  }
 },
 "nbformat": 4,
 "nbformat_minor": 2
}
